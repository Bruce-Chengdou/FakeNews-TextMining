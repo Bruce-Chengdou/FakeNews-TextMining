{
 "cells": [
  {
   "cell_type": "code",
   "execution_count": 1,
   "id": "fab6ce58",
   "metadata": {},
   "outputs": [
    {
     "name": "stderr",
     "output_type": "stream",
     "text": [
      "[nltk_data] Downloading package punkt to /Users/brucegang/nltk_data...\n",
      "[nltk_data]   Package punkt is already up-to-date!\n",
      "[nltk_data] Downloading package stopwords to\n",
      "[nltk_data]     /Users/brucegang/nltk_data...\n",
      "[nltk_data]   Package stopwords is already up-to-date!\n",
      "[nltk_data] Downloading package wordnet to\n",
      "[nltk_data]     /Users/brucegang/nltk_data...\n",
      "[nltk_data]   Package wordnet is already up-to-date!\n"
     ]
    },
    {
     "name": "stdout",
     "output_type": "stream",
     "text": [
      "   id                                              title              author  \\\n",
      "0   0  House Dem Aide: We Didn’t Even See Comey’s Let...       Darrell Lucus   \n",
      "1   1  FLYNN: Hillary Clinton, Big Woman on Campus - ...     Daniel J. Flynn   \n",
      "2   2                  Why the Truth Might Get You Fired  Consortiumnews.com   \n",
      "3   3  15 Civilians Killed In Single US Airstrike Hav...     Jessica Purkiss   \n",
      "4   4  Iranian woman jailed for fictional unpublished...      Howard Portnoy   \n",
      "\n",
      "                                                text  label  \n",
      "0  House Dem Aide: We Didn’t Even See Comey’s Let...      1  \n",
      "1  Ever get the feeling your life circles the rou...      0  \n",
      "2  Why the Truth Might Get You Fired October 29, ...      1  \n",
      "3  Videos 15 Civilians Killed In Single US Airstr...      1  \n",
      "4  Print \\nAn Iranian woman has been sentenced to...      1  \n"
     ]
    }
   ],
   "source": [
    "#Text Mining Assignment\n",
    "#Z0182873\n",
    "\n",
    "#1 Load the dataset\n",
    "import pandas as pd\n",
    "import string\n",
    "import nltk\n",
    "from nltk.corpus import stopwords\n",
    "from nltk.stem import WordNetLemmatizer\n",
    "\n",
    "nltk.download('punkt')\n",
    "nltk.download('stopwords')\n",
    "nltk.download('wordnet')\n",
    "\n",
    "Data = pd.read_csv('/Users/brucegang/Downloads/fake_news_dataset.csv')\n",
    "print(Data.head())\n"
   ]
  },
  {
   "cell_type": "code",
   "execution_count": 2,
   "id": "7c03edf3",
   "metadata": {},
   "outputs": [
    {
     "data": {
      "text/html": [
       "<div>\n",
       "<style scoped>\n",
       "    .dataframe tbody tr th:only-of-type {\n",
       "        vertical-align: middle;\n",
       "    }\n",
       "\n",
       "    .dataframe tbody tr th {\n",
       "        vertical-align: top;\n",
       "    }\n",
       "\n",
       "    .dataframe thead th {\n",
       "        text-align: right;\n",
       "    }\n",
       "</style>\n",
       "<table border=\"1\" class=\"dataframe\">\n",
       "  <thead>\n",
       "    <tr style=\"text-align: right;\">\n",
       "      <th></th>\n",
       "      <th>atext</th>\n",
       "      <th>label</th>\n",
       "    </tr>\n",
       "  </thead>\n",
       "  <tbody>\n",
       "    <tr>\n",
       "      <th>0</th>\n",
       "      <td>house dem aide didn’t even see comey’s letter ...</td>\n",
       "      <td>1</td>\n",
       "    </tr>\n",
       "    <tr>\n",
       "      <th>1</th>\n",
       "      <td>flynn hillary clinton big woman campus breitba...</td>\n",
       "      <td>0</td>\n",
       "    </tr>\n",
       "    <tr>\n",
       "      <th>2</th>\n",
       "      <td>truth might get fired. truth might get fired o...</td>\n",
       "      <td>1</td>\n",
       "    </tr>\n",
       "    <tr>\n",
       "      <th>3</th>\n",
       "      <td>15 civilians killed single us airstrike identi...</td>\n",
       "      <td>1</td>\n",
       "    </tr>\n",
       "    <tr>\n",
       "      <th>4</th>\n",
       "      <td>iranian woman jailed fictional unpublished sto...</td>\n",
       "      <td>1</td>\n",
       "    </tr>\n",
       "  </tbody>\n",
       "</table>\n",
       "</div>"
      ],
      "text/plain": [
       "                                               atext  label\n",
       "0  house dem aide didn’t even see comey’s letter ...      1\n",
       "1  flynn hillary clinton big woman campus breitba...      0\n",
       "2  truth might get fired. truth might get fired o...      1\n",
       "3  15 civilians killed single us airstrike identi...      1\n",
       "4  iranian woman jailed fictional unpublished sto...      1"
      ]
     },
     "execution_count": 2,
     "metadata": {},
     "output_type": "execute_result"
    }
   ],
   "source": [
    "#2 pre-processing\n",
    "#print(Data.isnull().sum())\n",
    "#print(Data.describe())\n",
    "#print(\"Number of duplicate rows: \", Data.duplicated().sum())\n",
    "#Data.drop_duplicates(inplace=True)\n",
    "\n",
    "#remove missing or null\n",
    "Data.dropna(subset=['text'], inplace=True)\n",
    "\n",
    "#Lowercasing\n",
    "Data['text'] = Data['text'].str.lower()\n",
    "Data['text'] = Data['text'].apply(lambda x: x.translate(str.maketrans('', '', string.punctuation)))\n",
    "Data['title'] = Data['title'].str.lower()\n",
    "Data['title'] = Data['title'].apply(lambda x: str(x).translate(str.maketrans('', '', string.punctuation)))\n",
    "\n",
    "#Stop word removal\n",
    "stop_words = set(stopwords.words('english'))\n",
    "Data['text'] = Data['text'].apply(lambda x: ' '.join([word for word in x.split() if word not in stop_words]))\n",
    "Data['title'] = Data['title'].fillna('').apply(lambda x: ' '.join([word for word in x.split() if word not in stop_words]))\n",
    "\n",
    "#combine title and text\n",
    "Data['atext'] = Data['title'] + \". \" + Data['text']\n",
    "\n",
    "Data = Data.reindex(columns=['atext','label'])\n",
    "\n",
    "Data.head(5)"
   ]
  },
  {
   "cell_type": "code",
   "execution_count": 3,
   "id": "8de8496d",
   "metadata": {},
   "outputs": [
    {
     "name": "stdout",
     "output_type": "stream",
     "text": [
      "Samples: 20575\n",
      "Labels: 20575 \n",
      "\n",
      "house dem aide didn’t even see comey’s letter jason chaffetz tweeted. house dem aide didn’t even see comey’s letter jason chaffetz tweeted darrell lucus october 30 2016 subscribe jason chaffetz stump american fork utah image courtesy michael jolley available creative commonsby license apologies keith olbermann doubt worst person world week–fbi director james comey according house democratic aide looks like also know secondworst person well turns comey sent nowinfamous letter announcing fbi looking emails may related hillary clinton’s email server ranking democrats relevant committees didn’t hear comey found via tweet one republican committee chairmen know comey notified republican chairmen democratic ranking members house intelligence judiciary oversight committees agency reviewing emails recently discovered order see contained classified information long letter went oversight committee chairman jason chaffetz set political world ablaze tweet fbi dir informed fbi learned existence emails appear pertinent investigation case reopened — jason chaffetz jasoninthehouse october 28 2016 course know case comey actually saying reviewing emails light “an unrelated case”–which know anthony weiner’s sexting teenager apparently little things facts didn’t matter chaffetz utah republican already vowed initiate raft investigations hillary wins–at least two years’ worth possibly entire term’s worth apparently chaffetz thought fbi already work him–resulting tweet briefly roiled nation cooler heads realized dud according senior house democratic aide misreading letter may least chaffetz’ sins aide told shareblue boss democrats didn’t even know comey’s letter time–and found checked twitter “democratic ranking members relevant committees didn’t receive comey’s letter republican chairmen fact democratic ranking members didn’ receive chairman oversight government reform committee jason chaffetz tweeted made public” let’s see we’ve got right fbi director tells chaffetz gop committee chairmen major development potentially politically explosive investigation neither chaffetz colleagues courtesy let democratic counterparts know instead according aide made find twitter already talk daily kos comey provided advance notice letter chaffetz republicans giving\n"
     ]
    }
   ],
   "source": [
    "#2 pre-processing\n",
    "Data.drop(Data[Data.atext.str.len() < 50].index, inplace=True)\n",
    "\n",
    "# Keep only the first max_words of each text\n",
    "def truncate_text_to_max_words(text,max_words): \n",
    "    text = text.split(maxsplit=max_words)\n",
    "    text = ' '.join(text[:max_words])\n",
    "    return text\n",
    "\n",
    "#Set the maximum number of words to be considered for each documents\n",
    "max_words = 300 \n",
    "\n",
    "Data.dropna(subset=['atext'], inplace=True)\n",
    "\n",
    "Data['atext'] = Data['atext'].apply(truncate_text_to_max_words,args=(max_words,))\n",
    "\n",
    "print(\"Samples:\",len(Data['atext']))\n",
    "print(\"Labels:\",len(Data['label']),\"\\n\")\n",
    "\n",
    "print(Data['atext'].iloc[0]) # Print first text as an example\n",
    "\n",
    "Data.to_csv('fakenews_processed.csv',index=False)"
   ]
  },
  {
   "cell_type": "code",
   "execution_count": 4,
   "id": "454f6946",
   "metadata": {},
   "outputs": [
    {
     "name": "stdout",
     "output_type": "stream",
     "text": [
      "Number of reliable articles: 10387\n",
      "Number of unreliable articles: 10188\n"
     ]
    }
   ],
   "source": [
    "#the class counts of balance\n",
    "class_counts = Data['atext'].value_counts()\n",
    "\n",
    "#print(class_counts)\n",
    "#print(\"Class distribution:\")\n",
    "#for label, count in class_counts.items():\n",
    "    #print(f\"Class {label}: {count} examples\")\n",
    "\n",
    "import numpy as np\n",
    "\n",
    "# Count the number of reliable articles\n",
    "reliable_count = (Data['label'] == 0).sum()\n",
    "print(\"Number of reliable articles:\", reliable_count)\n",
    "\n",
    "unreliable_count = (Data['label'] == 1).sum()\n",
    "print(\"Number of unreliable articles:\", unreliable_count)"
   ]
  },
  {
   "cell_type": "code",
   "execution_count": 5,
   "id": "e995f760",
   "metadata": {},
   "outputs": [
    {
     "name": "stdout",
     "output_type": "stream",
     "text": [
      "Training examples: 14402\n",
      "Testing examples: 6173\n"
     ]
    }
   ],
   "source": [
    "#3 split it into a training set and test set, 70%, 30%.\n",
    "\n",
    "training_data = Data.sample(frac=0.7, random_state=42)\n",
    "testing_data = Data.drop(training_data.index)\n",
    "\n",
    "print(f\"Training examples: {training_data.shape[0]}\")\n",
    "print(f\"Testing examples: {testing_data.shape[0]}\")\n",
    "\n",
    "training_data.reset_index(inplace=True, drop=True)\n",
    "testing_data.reset_index(inplace=True, drop=True)"
   ]
  },
  {
   "cell_type": "code",
   "execution_count": 6,
   "id": "263bcdfb",
   "metadata": {},
   "outputs": [
    {
     "name": "stdout",
     "output_type": "stream",
     "text": [
      "Predicted: [1, 0, 0, 1, 0, 0, 1, 1, 0, 1]\n",
      "Ground truth: [0, 0, 0, 1, 0, 0, 1, 0, 0, 1]\n",
      "Accuracy: 0.8927587882715049\n",
      "Precision: 0.9243281471004243\n",
      "Recall: 0.8536903984323971\n",
      "F1 score: 0.8876061120543294\n",
      "\n",
      "Classification performance:\n",
      "              precision    recall  f1-score   support\n",
      "\n",
      "           0       0.87      0.93      0.90      3111\n",
      "           1       0.92      0.85      0.89      3062\n",
      "\n",
      "    accuracy                           0.89      6173\n",
      "   macro avg       0.90      0.89      0.89      6173\n",
      "weighted avg       0.89      0.89      0.89      6173\n",
      "\n"
     ]
    },
    {
     "data": {
      "image/png": "[encoded data removed]",
      "text/plain": [
       "<Figure size 432x288 with 2 Axes>"
      ]
     },
     "metadata": {},
     "output_type": "display_data"
    }
   ],
   "source": [
    "#4 Implement a Naïve Bayes model\n",
    "#for predicting the reliability of news articles\n",
    "\n",
    "from sklearn.feature_extraction.text import TfidfVectorizer\n",
    "from sklearn.naive_bayes import MultinomialNB\n",
    "from sklearn.metrics import confusion_matrix, accuracy_score, f1_score,precision_score,recall_score, classification_report\n",
    "from sklearn.pipeline import make_pipeline\n",
    "import seaborn as sns\n",
    "import matplotlib.pyplot as plt\n",
    "sns.set()\n",
    "\n",
    "#Text representation\n",
    "vectorizer = TfidfVectorizer(stop_words='english', max_features=5500)\n",
    "X_train = vectorizer.fit_transform(training_data['atext'])\n",
    "X_test = vectorizer.transform(testing_data['atext'])\n",
    "\n",
    "y_train = training_data['label']\n",
    "y_test = testing_data['label']\n",
    "\n",
    "nb = MultinomialNB()\n",
    "nb.fit(X_train, y_train)\n",
    "\n",
    "y_pred = nb.predict(X_test)\n",
    "\n",
    "print(\"Predicted:\",y_pred.tolist()[0:10])\n",
    "print(\"Ground truth:\",y_test.tolist()[0:10])\n",
    "\n",
    "accuracy = accuracy_score(y_test, y_pred)\n",
    "precision = precision_score(y_test, y_pred)\n",
    "recall = recall_score(y_test, y_pred)\n",
    "f1 = f1_score(y_test, y_pred)\n",
    "\n",
    "print('Accuracy:', accuracy)\n",
    "print('Precision:', precision)\n",
    "print('Recall:', recall)\n",
    "print('F1 score:', f1)\n",
    "print(\"\\nClassification performance:\\n%s\" % classification_report(y_test, y_pred))\n",
    "\n",
    "mat = confusion_matrix(y_test, y_pred)\n",
    "sns.heatmap(mat.T, square = True, annot=True, fmt = \"d\")\n",
    "plt.xlabel(\"True label\")\n",
    "plt.ylabel(\"Predicted label\")\n",
    "plt.show()\n",
    "\n"
   ]
  },
  {
   "cell_type": "code",
   "execution_count": 7,
   "id": "5defd68c",
   "metadata": {},
   "outputs": [
    {
     "name": "stdout",
     "output_type": "stream",
     "text": [
      "Accuracy (k=3): 0.849505912846266\n",
      "Precision (k=3): 0.8772550406791652\n",
      "Recall (k=3): 0.8099281515349445\n",
      "F1 score (k=3): 0.8422482594668025\n",
      "              precision    recall  f1-score   support\n",
      "\n",
      "           0       0.83      0.89      0.86      3111\n",
      "           1       0.88      0.81      0.84      3062\n",
      "\n",
      "    accuracy                           0.85      6173\n",
      "   macro avg       0.85      0.85      0.85      6173\n",
      "weighted avg       0.85      0.85      0.85      6173\n",
      "\n"
     ]
    },
    {
     "data": {
      "image/png": "[encoded data removed]",
      "text/plain": [
       "<Figure size 432x288 with 2 Axes>"
      ]
     },
     "metadata": {},
     "output_type": "display_data"
    },
    {
     "name": "stdout",
     "output_type": "stream",
     "text": [
      "Accuracy (k=7): 0.8457800097197473\n",
      "Precision (k=7): 0.8833575581395349\n",
      "Recall (k=7): 0.7939255388634879\n",
      "F1 score (k=7): 0.8362573099415204\n",
      "              precision    recall  f1-score   support\n",
      "\n",
      "           0       0.82      0.90      0.85      3111\n",
      "           1       0.88      0.79      0.84      3062\n",
      "\n",
      "    accuracy                           0.85      6173\n",
      "   macro avg       0.85      0.85      0.85      6173\n",
      "weighted avg       0.85      0.85      0.85      6173\n",
      "\n"
     ]
    },
    {
     "data": {
      "image/png": "[encoded data removed]",
      "text/plain": [
       "<Figure size 432x288 with 2 Axes>"
      ]
     },
     "metadata": {},
     "output_type": "display_data"
    }
   ],
   "source": [
    "#5 Implement two k-Nearest Neighbours models (k=3, k=7)\n",
    "from sklearn.feature_extraction.text import TfidfVectorizer\n",
    "from sklearn.neighbors import KNeighborsClassifier\n",
    "from sklearn.metrics import accuracy_score, classification_report\n",
    "\n",
    "#Text representation\n",
    "vectorizer = TfidfVectorizer(stop_words='english', max_features=5500)\n",
    "\n",
    "X_train = vectorizer.fit_transform(training_data['atext'])\n",
    "X_test = vectorizer.transform(testing_data['atext'])\n",
    "\n",
    "y_train = training_data['label']\n",
    "y_test = testing_data['label']\n",
    "\n",
    "knn_3 = KNeighborsClassifier(n_neighbors=3)\n",
    "knn_3.fit(X_train, y_train)\n",
    "\n",
    "knn_7 = KNeighborsClassifier(n_neighbors=7)\n",
    "knn_7.fit(X_train, y_train)\n",
    "\n",
    "y_pred_3 = knn_3.predict(X_test)\n",
    "y_pred_7 = knn_7.predict(X_test)\n",
    "\n",
    "#first KNN model, K=3\n",
    "print(\"Accuracy (k=3):\", accuracy_score(y_test, y_pred_3))\n",
    "print('Precision (k=3):', precision_score(y_test, y_pred_3))\n",
    "print('Recall (k=3):', recall_score(y_test, y_pred_3))\n",
    "print('F1 score (k=3):', f1_score(y_test, y_pred_3))\n",
    "print(classification_report(y_test, y_pred_3))\n",
    "\n",
    "mat3 = confusion_matrix(y_test, y_pred_3)\n",
    "sns.heatmap(mat3.T, square = True, annot=True, fmt = \"d\")\n",
    "plt.xlabel(\"True label\")\n",
    "plt.ylabel(\"Predicted label\")\n",
    "plt.show()\n",
    "\n",
    "#second KNN model, K=7\n",
    "print(\"Accuracy (k=7):\", accuracy_score(y_test, y_pred_7))\n",
    "print('Precision (k=7):', precision_score(y_test, y_pred_7))\n",
    "print('Recall (k=7):', recall_score(y_test, y_pred_7))\n",
    "print('F1 score (k=7):', f1_score(y_test, y_pred_7))\n",
    "print(classification_report(y_test, y_pred_7))\n",
    "\n",
    "mat7 = confusion_matrix(y_test, y_pred_7)\n",
    "sns.heatmap(mat7.T, square = True, annot=True, fmt = \"d\")\n",
    "plt.xlabel(\"True label\")\n",
    "plt.ylabel(\"Predicted label\")\n",
    "plt.show()\n"
   ]
  },
  {
   "cell_type": "code",
   "execution_count": 8,
   "id": "fc108b2a",
   "metadata": {},
   "outputs": [
    {
     "name": "stdout",
     "output_type": "stream",
     "text": [
      "Requirement already satisfied: keras in /Users/brucegang/opt/anaconda3/lib/python3.9/site-packages (2.11.0)\n",
      "Note: you may need to restart the kernel to use updated packages.\n"
     ]
    }
   ],
   "source": [
    "pip install keras"
   ]
  },
  {
   "cell_type": "code",
   "execution_count": 9,
   "id": "9d56adfa",
   "metadata": {},
   "outputs": [
    {
     "name": "stdout",
     "output_type": "stream",
     "text": [
      "Requirement already satisfied: keras in /Users/brucegang/opt/anaconda3/lib/python3.9/site-packages (2.11.0)\n",
      "Note: you may need to restart the kernel to use updated packages.\n"
     ]
    }
   ],
   "source": [
    "pip install --upgrade keras"
   ]
  },
  {
   "cell_type": "code",
   "execution_count": 10,
   "id": "032b34c0",
   "metadata": {},
   "outputs": [
    {
     "name": "stdout",
     "output_type": "stream",
     "text": [
      "Requirement already satisfied: tensorflow in /Users/brucegang/opt/anaconda3/lib/python3.9/site-packages (2.11.0)\n",
      "Requirement already satisfied: tensorboard<2.12,>=2.11 in /Users/brucegang/opt/anaconda3/lib/python3.9/site-packages (from tensorflow) (2.11.2)\n",
      "Requirement already satisfied: absl-py>=1.0.0 in /Users/brucegang/opt/anaconda3/lib/python3.9/site-packages (from tensorflow) (1.4.0)\n",
      "Requirement already satisfied: termcolor>=1.1.0 in /Users/brucegang/opt/anaconda3/lib/python3.9/site-packages (from tensorflow) (2.2.0)\n",
      "Requirement already satisfied: google-pasta>=0.1.1 in /Users/brucegang/opt/anaconda3/lib/python3.9/site-packages (from tensorflow) (0.2.0)\n",
      "Requirement already satisfied: protobuf<3.20,>=3.9.2 in /Users/brucegang/opt/anaconda3/lib/python3.9/site-packages (from tensorflow) (3.19.1)\n",
      "Requirement already satisfied: tensorflow-estimator<2.12,>=2.11.0 in /Users/brucegang/opt/anaconda3/lib/python3.9/site-packages (from tensorflow) (2.11.0)\n",
      "Requirement already satisfied: flatbuffers>=2.0 in /Users/brucegang/opt/anaconda3/lib/python3.9/site-packages (from tensorflow) (23.3.3)\n",
      "Requirement already satisfied: packaging in /Users/brucegang/opt/anaconda3/lib/python3.9/site-packages (from tensorflow) (21.3)\n",
      "Requirement already satisfied: astunparse>=1.6.0 in /Users/brucegang/opt/anaconda3/lib/python3.9/site-packages (from tensorflow) (1.6.3)\n",
      "Requirement already satisfied: numpy>=1.20 in /Users/brucegang/opt/anaconda3/lib/python3.9/site-packages (from tensorflow) (1.21.5)\n",
      "Requirement already satisfied: grpcio<2.0,>=1.24.3 in /Users/brucegang/opt/anaconda3/lib/python3.9/site-packages (from tensorflow) (1.42.0)\n",
      "Requirement already satisfied: libclang>=13.0.0 in /Users/brucegang/opt/anaconda3/lib/python3.9/site-packages (from tensorflow) (15.0.6.1)\n",
      "Requirement already satisfied: gast<=0.4.0,>=0.2.1 in /Users/brucegang/opt/anaconda3/lib/python3.9/site-packages (from tensorflow) (0.4.0)\n",
      "Requirement already satisfied: wrapt>=1.11.0 in /Users/brucegang/opt/anaconda3/lib/python3.9/site-packages (from tensorflow) (1.12.1)\n",
      "Requirement already satisfied: tensorflow-io-gcs-filesystem>=0.23.1 in /Users/brucegang/opt/anaconda3/lib/python3.9/site-packages (from tensorflow) (0.31.0)\n",
      "Requirement already satisfied: keras<2.12,>=2.11.0 in /Users/brucegang/opt/anaconda3/lib/python3.9/site-packages (from tensorflow) (2.11.0)\n",
      "Requirement already satisfied: typing-extensions>=3.6.6 in /Users/brucegang/opt/anaconda3/lib/python3.9/site-packages (from tensorflow) (4.1.1)\n",
      "Requirement already satisfied: setuptools in /Users/brucegang/opt/anaconda3/lib/python3.9/site-packages (from tensorflow) (61.2.0)\n",
      "Requirement already satisfied: h5py>=2.9.0 in /Users/brucegang/opt/anaconda3/lib/python3.9/site-packages (from tensorflow) (3.6.0)\n",
      "Requirement already satisfied: six>=1.12.0 in /Users/brucegang/opt/anaconda3/lib/python3.9/site-packages (from tensorflow) (1.16.0)\n",
      "Requirement already satisfied: opt-einsum>=2.3.2 in /Users/brucegang/opt/anaconda3/lib/python3.9/site-packages (from tensorflow) (3.3.0)\n",
      "Requirement already satisfied: wheel<1.0,>=0.23.0 in /Users/brucegang/opt/anaconda3/lib/python3.9/site-packages (from astunparse>=1.6.0->tensorflow) (0.37.1)\n",
      "Requirement already satisfied: google-auth<3,>=1.6.3 in /Users/brucegang/opt/anaconda3/lib/python3.9/site-packages (from tensorboard<2.12,>=2.11->tensorflow) (1.33.0)\n",
      "Requirement already satisfied: google-auth-oauthlib<0.5,>=0.4.1 in /Users/brucegang/opt/anaconda3/lib/python3.9/site-packages (from tensorboard<2.12,>=2.11->tensorflow) (0.4.6)\n",
      "Requirement already satisfied: tensorboard-data-server<0.7.0,>=0.6.0 in /Users/brucegang/opt/anaconda3/lib/python3.9/site-packages (from tensorboard<2.12,>=2.11->tensorflow) (0.6.1)\n",
      "Requirement already satisfied: markdown>=2.6.8 in /Users/brucegang/opt/anaconda3/lib/python3.9/site-packages (from tensorboard<2.12,>=2.11->tensorflow) (3.3.4)\n",
      "Requirement already satisfied: tensorboard-plugin-wit>=1.6.0 in /Users/brucegang/opt/anaconda3/lib/python3.9/site-packages (from tensorboard<2.12,>=2.11->tensorflow) (1.8.1)\n",
      "Requirement already satisfied: requests<3,>=2.21.0 in /Users/brucegang/opt/anaconda3/lib/python3.9/site-packages (from tensorboard<2.12,>=2.11->tensorflow) (2.27.1)\n",
      "Requirement already satisfied: werkzeug>=1.0.1 in /Users/brucegang/opt/anaconda3/lib/python3.9/site-packages (from tensorboard<2.12,>=2.11->tensorflow) (2.0.3)\n",
      "Requirement already satisfied: rsa<5,>=3.1.4 in /Users/brucegang/opt/anaconda3/lib/python3.9/site-packages (from google-auth<3,>=1.6.3->tensorboard<2.12,>=2.11->tensorflow) (4.7.2)\n",
      "Requirement already satisfied: cachetools<5.0,>=2.0.0 in /Users/brucegang/opt/anaconda3/lib/python3.9/site-packages (from google-auth<3,>=1.6.3->tensorboard<2.12,>=2.11->tensorflow) (4.2.2)\n",
      "Requirement already satisfied: pyasn1-modules>=0.2.1 in /Users/brucegang/opt/anaconda3/lib/python3.9/site-packages (from google-auth<3,>=1.6.3->tensorboard<2.12,>=2.11->tensorflow) (0.2.8)\n",
      "Requirement already satisfied: requests-oauthlib>=0.7.0 in /Users/brucegang/opt/anaconda3/lib/python3.9/site-packages (from google-auth-oauthlib<0.5,>=0.4.1->tensorboard<2.12,>=2.11->tensorflow) (1.3.1)\n",
      "Requirement already satisfied: pyasn1<0.5.0,>=0.4.6 in /Users/brucegang/opt/anaconda3/lib/python3.9/site-packages (from pyasn1-modules>=0.2.1->google-auth<3,>=1.6.3->tensorboard<2.12,>=2.11->tensorflow) (0.4.8)\n",
      "Requirement already satisfied: charset-normalizer~=2.0.0 in /Users/brucegang/opt/anaconda3/lib/python3.9/site-packages (from requests<3,>=2.21.0->tensorboard<2.12,>=2.11->tensorflow) (2.0.4)\n",
      "Requirement already satisfied: certifi>=2017.4.17 in /Users/brucegang/opt/anaconda3/lib/python3.9/site-packages (from requests<3,>=2.21.0->tensorboard<2.12,>=2.11->tensorflow) (2021.10.8)\n",
      "Requirement already satisfied: idna<4,>=2.5 in /Users/brucegang/opt/anaconda3/lib/python3.9/site-packages (from requests<3,>=2.21.0->tensorboard<2.12,>=2.11->tensorflow) (3.3)\n",
      "Requirement already satisfied: urllib3<1.27,>=1.21.1 in /Users/brucegang/opt/anaconda3/lib/python3.9/site-packages (from requests<3,>=2.21.0->tensorboard<2.12,>=2.11->tensorflow) (1.26.9)\n",
      "Requirement already satisfied: oauthlib>=3.0.0 in /Users/brucegang/opt/anaconda3/lib/python3.9/site-packages (from requests-oauthlib>=0.7.0->google-auth-oauthlib<0.5,>=0.4.1->tensorboard<2.12,>=2.11->tensorflow) (3.2.2)\n",
      "Requirement already satisfied: pyparsing!=3.0.5,>=2.0.2 in /Users/brucegang/opt/anaconda3/lib/python3.9/site-packages (from packaging->tensorflow) (3.0.4)\n",
      "Note: you may need to restart the kernel to use updated packages.\n"
     ]
    }
   ],
   "source": [
    "pip install tensorflow"
   ]
  },
  {
   "cell_type": "code",
   "execution_count": 11,
   "id": "456b8839",
   "metadata": {},
   "outputs": [
    {
     "name": "stdout",
     "output_type": "stream",
     "text": [
      "CountVectorizer vocabulary size: 2\n",
      "CountVectorizer matrix shape: (2, 2)\n",
      "TfidfVectorizer vocabulary size: 2\n",
      "TfidfVectorizer matrix shape: (2, 2)\n"
     ]
    }
   ],
   "source": [
    "#text representation\n",
    "from sklearn.feature_extraction.text import CountVectorizer, TfidfVectorizer\n",
    "\n",
    "count_vect = CountVectorizer()\n",
    "X_count = count_vect.fit_transform(Data)\n",
    "\n",
    "tfidf_vect = TfidfVectorizer()\n",
    "X_tfidf = tfidf_vect.fit_transform(Data)\n",
    "\n",
    "print(f\"CountVectorizer vocabulary size: {len(count_vect.vocabulary_)}\")\n",
    "print(f\"CountVectorizer matrix shape: {X_count.shape}\")\n",
    "print(f\"TfidfVectorizer vocabulary size: {len(tfidf_vect.vocabulary_)}\")\n",
    "print(f\"TfidfVectorizer matrix shape: {X_tfidf.shape}\")"
   ]
  },
  {
   "cell_type": "code",
   "execution_count": 12,
   "id": "2cee9685",
   "metadata": {},
   "outputs": [
    {
     "name": "stderr",
     "output_type": "stream",
     "text": [
      "2023-03-17 15:29:56.509632: I tensorflow/core/platform/cpu_feature_guard.cc:193] This TensorFlow binary is optimized with oneAPI Deep Neural Network Library (oneDNN) to use the following CPU instructions in performance-critical operations:  AVX2 FMA\n",
      "To enable them in other operations, rebuild TensorFlow with the appropriate compiler flags.\n"
     ]
    },
    {
     "name": "stdout",
     "output_type": "stream",
     "text": [
      "Epoch 1/5\n"
     ]
    },
    {
     "name": "stderr",
     "output_type": "stream",
     "text": [
      "2023-03-17 15:30:10.524289: I tensorflow/core/platform/cpu_feature_guard.cc:193] This TensorFlow binary is optimized with oneAPI Deep Neural Network Library (oneDNN) to use the following CPU instructions in performance-critical operations:  AVX2 FMA\n",
      "To enable them in other operations, rebuild TensorFlow with the appropriate compiler flags.\n"
     ]
    },
    {
     "name": "stdout",
     "output_type": "stream",
     "text": [
      "451/451 [==============================] - 15s 33ms/step - loss: 0.2251 - accuracy: 0.9054 - val_loss: 0.0539 - val_accuracy: 0.9828\n",
      "Epoch 2/5\n",
      "451/451 [==============================] - 15s 33ms/step - loss: 0.0319 - accuracy: 0.9908 - val_loss: 0.0373 - val_accuracy: 0.9870\n",
      "Epoch 3/5\n",
      "451/451 [==============================] - 15s 33ms/step - loss: 0.0093 - accuracy: 0.9980 - val_loss: 0.0338 - val_accuracy: 0.9882\n",
      "Epoch 4/5\n",
      "451/451 [==============================] - 15s 32ms/step - loss: 0.0026 - accuracy: 0.9998 - val_loss: 0.0347 - val_accuracy: 0.9882\n",
      "Epoch 5/5\n",
      "451/451 [==============================] - 15s 33ms/step - loss: 9.9553e-04 - accuracy: 1.0000 - val_loss: 0.0347 - val_accuracy: 0.9887\n",
      "193/193 [==============================] - 1s 6ms/step - loss: 0.0347 - accuracy: 0.9887\n",
      "Test loss: 0.03470131382346153, Test accuracy: 0.9886602759361267\n"
     ]
    }
   ],
   "source": [
    "#6 Implement a Convolutional Neural Network (CNN) model\n",
    "import numpy as np\n",
    "import tensorflow as tf\n",
    "from tensorflow.keras.preprocessing.text import Tokenizer\n",
    "from tensorflow.keras.preprocessing.sequence import pad_sequences\n",
    "\n",
    "tokenizer = Tokenizer(num_words=10000, oov_token=\"<OOV>\")\n",
    "tokenizer.fit_on_texts(training_data['atext'])\n",
    "\n",
    "X_train = tokenizer.texts_to_sequences(training_data['atext'])\n",
    "X_train = pad_sequences(X_train, padding='post', maxlen=900)\n",
    "\n",
    "X_test = tokenizer.texts_to_sequences(testing_data['atext'])\n",
    "X_test = pad_sequences(X_test, padding='post', maxlen=900)\n",
    "\n",
    "y_train = np.array(training_data['label'])\n",
    "y_test = np.array(testing_data['label'])\n",
    "\n",
    "CNNmodel = tf.keras.Sequential([\n",
    "    tf.keras.layers.Embedding(input_dim=10000, output_dim=16, input_length=900),\n",
    "    tf.keras.layers.Conv1D(filters=128, kernel_size=5, activation='relu'),\n",
    "    tf.keras.layers.GlobalMaxPooling1D(),\n",
    "    tf.keras.layers.Dense(units=1, activation='sigmoid')\n",
    "])\n",
    "\n",
    "CNNmodel.compile(loss='binary_crossentropy', optimizer='adam', metrics=['accuracy'])\n",
    "\n",
    "history = CNNmodel.fit(X_train, y_train, epochs=5, validation_data=(X_test, y_test))\n",
    "\n",
    "test_loss, test_accuracy = CNNmodel.evaluate(X_test, y_test)\n",
    "print(f\"Test loss: {test_loss}, Test accuracy: {test_accuracy}\")\n"
   ]
  },
  {
   "cell_type": "code",
   "execution_count": 13,
   "id": "a2bb8668",
   "metadata": {},
   "outputs": [
    {
     "name": "stdout",
     "output_type": "stream",
     "text": [
      "193/193 [==============================] - 1s 6ms/step\n",
      "[[3085   26]\n",
      " [  44 3018]]\n"
     ]
    },
    {
     "data": {
      "image/png": "[encoded data removed]",
      "text/plain": [
       "<Figure size 432x288 with 2 Axes>"
      ]
     },
     "metadata": {},
     "output_type": "display_data"
    }
   ],
   "source": [
    "#6 CNN model's confusion matrix\n",
    "from sklearn.metrics import confusion_matrix\n",
    "\n",
    "y_pred = CNNmodel.predict(X_test)\n",
    "y_pred = np.round(y_pred)\n",
    "list(y_pred)\n",
    "\n",
    "\n",
    "CNNcm = confusion_matrix(y_test, y_pred)\n",
    "print(CNNcm)\n",
    "\n",
    "sns.heatmap(CNNcm.T, square = True, annot=True, fmt = \"d\")\n",
    "plt.xlabel(\"True label\")\n",
    "plt.ylabel(\"Predicted label\")\n",
    "plt.show()"
   ]
  },
  {
   "cell_type": "code",
   "execution_count": 14,
   "id": "9af150b9",
   "metadata": {},
   "outputs": [
    {
     "name": "stdout",
     "output_type": "stream",
     "text": [
      "              precision    recall  f1-score   support\n",
      "\n",
      "           0       0.99      0.99      0.99      3111\n",
      "           1       0.99      0.99      0.99      3062\n",
      "\n",
      "    accuracy                           0.99      6173\n",
      "   macro avg       0.99      0.99      0.99      6173\n",
      "weighted avg       0.99      0.99      0.99      6173\n",
      "\n"
     ]
    }
   ],
   "source": [
    "#6 CNN model's classification report\n",
    "from sklearn.metrics import classification_report\n",
    "\n",
    "print(classification_report(y_test, y_pred))"
   ]
  },
  {
   "cell_type": "code",
   "execution_count": 15,
   "id": "dbcf8162",
   "metadata": {},
   "outputs": [
    {
     "name": "stdout",
     "output_type": "stream",
     "text": [
      "0.9886983032283723\n",
      "0.9886364328258528\n",
      "0.9886589588215038\n"
     ]
    }
   ],
   "source": [
    "#6 CNN model's macro average\n",
    "from sklearn.metrics import f1_score, precision_score, recall_score, confusion_matrix\n",
    "\n",
    "#Print f1, precision, and recall scores\n",
    "print(precision_score(y_test, y_pred, average=\"macro\"))\n",
    "print(recall_score(y_test, y_pred , average=\"macro\"))\n",
    "print(f1_score(y_test, y_pred , average=\"macro\"))"
   ]
  },
  {
   "cell_type": "code",
   "execution_count": 16,
   "id": "5981590d",
   "metadata": {},
   "outputs": [
    {
     "name": "stdout",
     "output_type": "stream",
     "text": [
      "Epoch 1/5\n",
      "451/451 [==============================] - 37s 78ms/step - loss: 0.3893 - accuracy: 0.8366 - val_loss: 0.2253 - val_accuracy: 0.9357\n",
      "Epoch 2/5\n",
      "451/451 [==============================] - 35s 79ms/step - loss: 0.2864 - accuracy: 0.9149 - val_loss: 0.2809 - val_accuracy: 0.9077\n",
      "Epoch 3/5\n",
      "451/451 [==============================] - 35s 78ms/step - loss: 0.2637 - accuracy: 0.9060 - val_loss: 0.3483 - val_accuracy: 0.8965\n",
      "Epoch 4/5\n",
      "451/451 [==============================] - 35s 77ms/step - loss: 0.5879 - accuracy: 0.6993 - val_loss: 0.5858 - val_accuracy: 0.6925\n",
      "Epoch 5/5\n",
      "451/451 [==============================] - 35s 77ms/step - loss: 0.4503 - accuracy: 0.8111 - val_loss: 0.4062 - val_accuracy: 0.8223\n",
      "193/193 [==============================] - 4s 21ms/step - loss: 0.4062 - accuracy: 0.8223\n",
      "193/193 [==============================] - 4s 21ms/step\n",
      "Test Accuracy: 0.8222905993461609\n",
      "Test Loss: 0.40619364380836487\n",
      "              precision    recall  f1-score   support\n",
      "\n",
      "           0       0.76      0.96      0.84      3111\n",
      "           1       0.94      0.69      0.79      3062\n",
      "\n",
      "    accuracy                           0.82      6173\n",
      "   macro avg       0.85      0.82      0.82      6173\n",
      "weighted avg       0.85      0.82      0.82      6173\n",
      "\n",
      "Accuracy: 0.8222906204438685\n"
     ]
    }
   ],
   "source": [
    "#7 Implement a Long Short-Term Memory (LSTM) model\n",
    "import tensorflow as tf\n",
    "from tensorflow.keras.preprocessing.text import Tokenizer\n",
    "from tensorflow.keras.preprocessing.sequence import pad_sequences\n",
    "from sklearn.metrics import accuracy_score\n",
    "\n",
    "tokenizer = Tokenizer(num_words=10000, oov_token=\"<OOV>\")\n",
    "tokenizer.fit_on_texts(training_data['atext'])\n",
    "\n",
    "X_train = tokenizer.texts_to_sequences(training_data['atext'])\n",
    "X_train = pad_sequences(X_train, padding='post', maxlen=300)\n",
    "\n",
    "X_test = tokenizer.texts_to_sequences(testing_data['atext'])\n",
    "X_test = pad_sequences(X_test, padding='post', maxlen=300)\n",
    "\n",
    "y_train = np.array(training_data['label'])\n",
    "y_test = np.array(testing_data['label'])\n",
    "\n",
    "# Define the LSTM model\n",
    "LSTMmodel = tf.keras.Sequential([\n",
    "    tf.keras.layers.Embedding(10000, 64, input_length=300),\n",
    "    tf.keras.layers.LSTM(64),\n",
    "    tf.keras.layers.Dense(1, activation='sigmoid')\n",
    "])\n",
    "\n",
    "# Compile the model\n",
    "LSTMmodel.compile(loss='binary_crossentropy', optimizer='adam', metrics=['accuracy'])\n",
    "\n",
    "# Train the model\n",
    "history = LSTMmodel.fit(X_train, y_train, epochs=5, batch_size=32, validation_data=(X_test, y_test))\n",
    "\n",
    "# Evaluate the model\n",
    "test_loss, test_accuracy = LSTMmodel.evaluate(X_test, y_test)\n",
    "\n",
    "# Predict the test set\n",
    "y_pred = LSTMmodel.predict(X_test)\n",
    "y_pred = np.round(y_pred)\n",
    "\n",
    "# LSTM Compute the metrics\n",
    "print(\"Test Accuracy:\", test_accuracy)\n",
    "print(\"Test Loss:\", test_loss)\n",
    "print(classification_report(y_test, y_pred))\n",
    "\n",
    "accuracy = accuracy_score(y_test, y_pred)\n",
    "print(\"Accuracy:\", accuracy)"
   ]
  },
  {
   "cell_type": "code",
   "execution_count": 17,
   "id": "697a0c9f",
   "metadata": {},
   "outputs": [
    {
     "name": "stdout",
     "output_type": "stream",
     "text": [
      "Confusion Matrix: [[2976  135]\n",
      " [ 962 2100]]\n"
     ]
    },
    {
     "data": {
      "image/png": "[encoded data removed]",
      "text/plain": [
       "<Figure size 432x288 with 2 Axes>"
      ]
     },
     "metadata": {},
     "output_type": "display_data"
    }
   ],
   "source": [
    "#7 LSTM model's confusion matrix\n",
    "\n",
    "LSTMcm = confusion_matrix(y_test, y_pred)\n",
    "print(\"Confusion Matrix:\", LSTMcm)\n",
    "\n",
    "sns.heatmap(LSTMcm.T, square = True, annot=True, fmt = \"d\")\n",
    "plt.xlabel(\"True label\")\n",
    "plt.ylabel(\"Predicted label\")\n",
    "plt.show()"
   ]
  },
  {
   "cell_type": "code",
   "execution_count": 18,
   "id": "331563cc",
   "metadata": {},
   "outputs": [
    {
     "name": "stdout",
     "output_type": "stream",
     "text": [
      "Precision: 0.8476554378095378\n",
      "Recall: 0.8212159252025166\n",
      "F1-Score: 0.8186383655520877\n"
     ]
    }
   ],
   "source": [
    "#7 LSTM model's macro average\n",
    "precision = precision_score(y_test, y_pred, average=\"macro\")\n",
    "recall = recall_score(y_test, y_pred, average=\"macro\") \n",
    "f1 = f1_score(y_test, y_pred, average=\"macro\") \n",
    "\n",
    "print(\"Precision:\", precision) \n",
    "print(\"Recall:\", recall) \n",
    "print(\"F1-Score:\", f1)"
   ]
  },
  {
   "cell_type": "code",
   "execution_count": 19,
   "id": "69b70089",
   "metadata": {},
   "outputs": [
    {
     "name": "stdout",
     "output_type": "stream",
     "text": [
      "Keras weights file (<HDF5 file \"variables.h5\" (mode r+)>) saving:\n",
      "...layers\n",
      "......conv1d\n",
      ".........vars\n",
      "............0\n",
      "............1\n",
      "......dense\n",
      ".........vars\n",
      "............0\n",
      "............1\n",
      "......embedding\n",
      ".........vars\n",
      "............0\n",
      "......global_max_pooling1d\n",
      ".........vars\n",
      "...metrics\n",
      "......mean\n",
      ".........vars\n",
      "............0\n",
      "............1\n",
      "......mean_metric_wrapper\n",
      ".........vars\n",
      "............0\n",
      "............1\n",
      "...optimizer\n",
      "......vars\n",
      ".........0\n",
      ".........1\n",
      ".........10\n",
      ".........2\n",
      ".........3\n",
      ".........4\n",
      ".........5\n",
      ".........6\n",
      ".........7\n",
      ".........8\n",
      ".........9\n",
      "...vars\n",
      "Keras model archive saving:\n",
      "File Name                                             Modified             Size\n",
      "config.json                                    2023-03-17 15:35:28         2096\n",
      "metadata.json                                  2023-03-17 15:35:28           64\n",
      "variables.h5                                   2023-03-17 15:35:28      2071080\n",
      "Keras weights file (<HDF5 file \"variables.h5\" (mode r+)>) saving:\n",
      "...layers\n",
      "......dense\n",
      ".........vars\n",
      "............0\n",
      "............1\n",
      "......embedding\n",
      ".........vars\n",
      "............0\n",
      "......lstm\n",
      ".........cell\n",
      "............vars\n",
      "...............0\n",
      "...............1\n",
      "...............2\n",
      ".........vars\n",
      "...metrics\n",
      "......mean\n",
      ".........vars\n",
      "............0\n",
      "............1\n",
      "......mean_metric_wrapper\n",
      ".........vars\n",
      "............0\n",
      "............1\n",
      "...optimizer\n",
      "......vars\n",
      ".........0\n",
      ".........1\n",
      ".........10\n",
      ".........11\n",
      ".........12\n",
      ".........2\n",
      ".........3\n",
      ".........4\n",
      ".........5\n",
      ".........6\n",
      ".........7\n",
      ".........8\n",
      ".........9\n",
      "...vars\n",
      "Keras model archive saving:\n",
      "File Name                                             Modified             Size\n",
      "config.json                                    2023-03-17 15:35:28         2211\n",
      "metadata.json                                  2023-03-17 15:35:28           64\n",
      "variables.h5                                   2023-03-17 15:35:28      8102232\n"
     ]
    }
   ],
   "source": [
    "#Store these five trained models in files\n",
    "import pickle\n",
    "\n",
    "# Train and save the Naive Bayes model\n",
    "with open('nb.pkl', 'wb') as file:\n",
    "    pickle.dump(nb, file)\n",
    "\n",
    "# Train and save the kNN model with k=3\n",
    "with open('knn_3.pkl', 'wb') as file:\n",
    "    pickle.dump(knn_3, file)\n",
    "\n",
    "# Train and save the kNN model with k=7\n",
    "with open('knn_7.pkl', 'wb') as file:\n",
    "    pickle.dump(knn_7, file)\n",
    "\n",
    "# Train and save the CNN model\n",
    "with open('CNNmodel.pkl', 'wb') as file:\n",
    "    pickle.dump(CNNmodel, file)\n",
    "\n",
    "# Train and save the LSTM model\n",
    "with open('LSTMmodel.pkl', 'wb') as file:\n",
    "    pickle.dump(LSTMmodel, file)\n"
   ]
  },
  {
   "cell_type": "code",
   "execution_count": 20,
   "id": "cac532d5",
   "metadata": {},
   "outputs": [],
   "source": [
    "#Store these five trained models in files\n",
    "import pickle\n",
    "import numpy as np\n",
    "\n",
    "def predict_reliability(text, model_filename, vectorizer):\n",
    "    with open(model_filename, 'rb') as file:\n",
    "        model = pickle.load(file)\n",
    "    \n",
    "    # Preprocess the text\n",
    "    X_train = vectorizer.fit_transform(training_data['atext'])\n",
    "    X_test = vectorizer.transform(testing_data['atext'])\n",
    "    y_train = training_data['label']\n",
    "    y_test = testing_data['label']\n",
    "\n",
    "    preprocessed_text = vectorizer.transform([text])\n",
    "    \n",
    "    # Make the prediction\n",
    "    if model_filename == 'nb.pkl':\n",
    "        # Naïve Bayes model\n",
    "        prediction = model.predict(preprocessed_text)\n",
    "    elif model_filename == 'knn_3.pkl':\n",
    "        # k-Nearest Neighbours model (k=3)\n",
    "        prediction = model.predict(preprocessed_text)\n",
    "    elif model_filename == 'knn_7.pkl':\n",
    "        # k-Nearest Neighbours model (k=7)\n",
    "        prediction = model.predict(preprocessed_text)\n",
    "    elif model_filename == 'CNNmodel.pkl':\n",
    "        # Convolutional Neural Network model\n",
    "        X_test_csr = preprocessed_text.tocsr()\n",
    "        p_text = X_test_csr.toarray()\n",
    "        prediction = model.predict(p_text)\n",
    "        prediction = np.round(prediction)\n",
    "        prediction = np.round(prediction)\n",
    "    elif model_filename == 'LSTMmodel.pkl':\n",
    "        # Long Short-Term Memory model\n",
    "        X_test_csr = preprocessed_text.tocsr()\n",
    "        p_text = X_test_csr.toarray()\n",
    "        prediction = model.predict(p_text)\n",
    "        prediction = np.round(prediction)\n",
    "    return prediction"
   ]
  },
  {
   "cell_type": "code",
   "execution_count": 21,
   "id": "3b326da0",
   "metadata": {},
   "outputs": [
    {
     "name": "stderr",
     "output_type": "stream",
     "text": [
      "/Users/brucegang/opt/anaconda3/lib/python3.9/site-packages/sklearn/feature_extraction/text.py:396: UserWarning: Your stop_words may be inconsistent with your preprocessing. Tokenizing the stop words generated tokens [\"'d\", \"'ll\", \"'re\", \"'s\", \"'ve\", 'could', 'might', 'must', \"n't\", 'need', 'sha', 'wo', 'would'] not in stop_words.\n",
      "  warnings.warn(\n"
     ]
    },
    {
     "name": "stdout",
     "output_type": "stream",
     "text": [
      "NB reliability: [1]\n",
      "KNN3 reliability: [1]\n",
      "KNN7 reliability: [1]\n"
     ]
    }
   ],
   "source": [
    "#predict the article reliability of the input text\n",
    "import nltk\n",
    "\n",
    "def tokenize(text):\n",
    "    tokens = nltk.word_tokenize(text)\n",
    "    return tokens\n",
    "\n",
    "text = \"We Didn’t Even See Comey’s Letter Until Jason Chaffetz Tweeted It. house dem aide didn’t even see comey’s letter jason chaffetz tweeted darrell lucus october 30 2016\"\n",
    "vectorizer = CountVectorizer(tokenizer=tokenize, stop_words=stop_words, max_features=5500)\n",
    "\n",
    "nb_prediction = predict_reliability(text, 'nb.pkl', vectorizer)\n",
    "print('NB reliability:', nb_prediction)\n",
    "\n",
    "knn3_prediction = predict_reliability(text, 'knn_3.pkl', vectorizer)\n",
    "print('KNN3 reliability:', knn3_prediction)\n",
    "\n",
    "knn7_prediction = predict_reliability(text, 'knn_7.pkl', vectorizer)\n",
    "print('KNN7 reliability:', knn7_prediction)"
   ]
  },
  {
   "cell_type": "code",
   "execution_count": 22,
   "id": "f369fbdb",
   "metadata": {},
   "outputs": [
    {
     "name": "stdout",
     "output_type": "stream",
     "text": [
      "Keras model archive loading:\n",
      "File Name                                             Modified             Size\n",
      "config.json                                    2023-03-17 15:35:28         2096\n",
      "metadata.json                                  2023-03-17 15:35:28           64\n",
      "variables.h5                                   2023-03-17 15:35:28      2071080\n",
      "Keras weights file (<HDF5 file \"variables.h5\" (mode r)>) loading:\n",
      "...layers\n",
      "......conv1d\n",
      ".........vars\n",
      "............0\n",
      "............1\n",
      "......dense\n",
      ".........vars\n",
      "............0\n",
      "............1\n",
      "......embedding\n",
      ".........vars\n",
      "............0\n",
      "......global_max_pooling1d\n",
      ".........vars\n",
      "...metrics\n",
      "......mean\n",
      ".........vars\n",
      "............0\n",
      "............1\n",
      "......mean_metric_wrapper\n",
      ".........vars\n",
      "............0\n",
      "............1\n",
      "...optimizer\n",
      "......vars\n",
      ".........0\n",
      ".........1\n",
      ".........10\n",
      ".........2\n",
      ".........3\n",
      ".........4\n",
      ".........5\n",
      ".........6\n",
      ".........7\n",
      ".........8\n",
      ".........9\n",
      "...vars\n",
      "1/1 [==============================] - 0s 50ms/step\n",
      "CNN reliability: [[1.]]\n"
     ]
    }
   ],
   "source": [
    "#predict the article reliability of the input text\n",
    "vectorizer = CountVectorizer(tokenizer=tokenize, stop_words=stop_words, max_features=900)\n",
    "cnn_prediction = predict_reliability(text, 'CNNmodel.pkl', vectorizer)\n",
    "print('CNN reliability:', cnn_prediction)"
   ]
  },
  {
   "cell_type": "code",
   "execution_count": 23,
   "id": "3a21df33",
   "metadata": {},
   "outputs": [
    {
     "name": "stdout",
     "output_type": "stream",
     "text": [
      "Keras model archive loading:\n",
      "File Name                                             Modified             Size\n",
      "config.json                                    2023-03-17 15:35:28         2211\n",
      "metadata.json                                  2023-03-17 15:35:28           64\n",
      "variables.h5                                   2023-03-17 15:35:28      8102232\n",
      "Keras weights file (<HDF5 file \"variables.h5\" (mode r)>) loading:\n",
      "...layers\n",
      "......dense\n",
      ".........vars\n",
      "............0\n",
      "............1\n",
      "......embedding\n",
      ".........vars\n",
      "............0\n",
      "......lstm\n",
      ".........cell\n",
      "............vars\n",
      "...............0\n",
      "...............1\n",
      "...............2\n",
      ".........vars\n",
      "...metrics\n",
      "......mean\n",
      ".........vars\n",
      "............0\n",
      "............1\n",
      "......mean_metric_wrapper\n",
      ".........vars\n",
      "............0\n",
      "............1\n",
      "...optimizer\n",
      "......vars\n",
      ".........0\n",
      ".........1\n",
      ".........10\n",
      ".........11\n",
      ".........12\n",
      ".........2\n",
      ".........3\n",
      ".........4\n",
      ".........5\n",
      ".........6\n",
      ".........7\n",
      ".........8\n",
      ".........9\n",
      "...vars\n",
      "1/1 [==============================] - 0s 319ms/step\n",
      "LSTM reliability: [[1.]]\n"
     ]
    }
   ],
   "source": [
    "#predict the article reliability of the input text\n",
    "vectorizer = CountVectorizer(tokenizer=tokenize, stop_words=stop_words, max_features=300)\n",
    "lstm_prediction = predict_reliability(text, 'LSTMmodel.pkl', vectorizer)\n",
    "print('LSTM reliability:', lstm_prediction)"
   ]
  }
 ],
 "metadata": {
  "kernelspec": {
   "display_name": "Python 3 (ipykernel)",
   "language": "python",
   "name": "python3"
  },
  "language_info": {
   "codemirror_mode": {
    "name": "ipython",
    "version": 3
   },
   "file_extension": ".py",
   "mimetype": "text/x-python",
   "name": "python",
   "nbconvert_exporter": "python",
   "pygments_lexer": "ipython3",
   "version": "3.9.12"
  }
 },
 "nbformat": 4,
 "nbformat_minor": 5
}
